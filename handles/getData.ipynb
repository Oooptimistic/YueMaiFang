{
 "cells": [
  {
   "cell_type": "code",
   "execution_count": 1,
   "metadata": {
    "collapsed": true,
    "pycharm": {
     "name": "#%%\n"
    }
   },
   "outputs": [],
   "source": [
    "import pandas as pd\n",
    "import json\n",
    "import pymysql\n",
    "config = {\n",
    "    'host': 'localhost',\n",
    "    'port': 3306,\n",
    "    'user': 'root',\n",
    "    'password': '123456',\n",
    "    'database': 'yuemaifang',\n",
    "    'charset': 'utf8mb4',\n",
    "    'cursorclass': pymysql.cursors.Cursor\n",
    "}\n",
    "\n",
    "def con_sql(sql):\n",
    "\tdb = pymysql.connect(**config)\n",
    "\tcursor = db.cursor()\n",
    "\tcursor.execute(sql)\n",
    "\tresult = cursor.fetchall()\n",
    "\tdf = pd.DataFrame(list(result))\n",
    "\tdb.close()\n",
    "\treturn df"
   ]
  },
  {
   "cell_type": "code",
   "execution_count": 2,
   "outputs": [
    {
     "data": {
      "text/plain": "                  0     1    2              3                        4  \\\n0            湛江渔人码头  data  湛江市  2018年05月30日开盘  电话：400-7055-050 转 11780   \n1     江门美吉特广场CCMALL  data  江门市  2016年03月30日开盘    电话：400-6378-135 转 466   \n2             尚东柏悦府  data  广州市  2016年10月08日开盘   电话：400-6390-343 转 1409   \n3          益田大运城邦别墅  data  东莞市  2014年03月29日开盘  电话：400-7055-050 转 17149   \n4             华鸿璟悦轩  data  中山市  2021年05月01日开盘    电话：400-6372-095 转 119   \n...             ...   ...  ...            ...                      ...   \n6953         汇生商贸大楼  data  珠海市  1970年01月01日开盘   电话：400-6390-473 转 1001   \n6954           文德广场  data  珠海市  1970年01月01日开盘   电话：400-6390-473 转 1071   \n6955         奥园阳光一号  data  珠海市  2019年06月22日开盘   电话：400-6390-473 转 1108   \n6956           泉福豪亭  data  珠海市  1970年01月01日开盘   电话：400-6390-473 转 1006   \n6957         中安世纪广场  data  珠海市  1970年01月01日开盘   电话：400-6390-473 转 1154   \n\n                                     5   6   7       8              9  \n0                       霞山 霞山 · 东堤路15号  在售  商业   60000     小户型 综合体 海景  \n1                        新会区  · 启超大道9号  在售  商业   30000  品牌地产 综合体 景观居所  \n2      天河 珠江新城 · 珠江新城花城大道98号（珠江公园南门对面）  在售  住宅  160000           地铁沿线  \n3                常平 常平 · 东莞市凤岗道龙平路官井头村  在售  别墅   60000           景观居所  \n4     火炬开发区 凯茵新城 · 博爱七路与景观路交汇处长江高尔夫球场旁  在售  住宅   30000           品牌地产  \n...                                ...  ..  ..     ...            ...  \n6953         香洲  · 前山金鸡路125号（人力资源大厦对面）  售完  商业    售价待定             现房  \n6954     高栏港经济区  · 平沙镇美平西路328号文德广场销售中心  售完  住宅    售价待定      品牌地产 配套成熟  \n6955                 金湾  · 三灶镇机场西路101号  售完  住宅    售价待定            小户型  \n6956           香洲  · 凤凰北路2000号（翠香路交叉口）  售完  商业    售价待定             现房  \n6957                     香洲  · 港昌路258号  租售  商业    售价待定      品牌地产 配套成熟  \n\n[6958 rows x 10 columns]",
      "text/html": "<div>\n<style scoped>\n    .dataframe tbody tr th:only-of-type {\n        vertical-align: middle;\n    }\n\n    .dataframe tbody tr th {\n        vertical-align: top;\n    }\n\n    .dataframe thead th {\n        text-align: right;\n    }\n</style>\n<table border=\"1\" class=\"dataframe\">\n  <thead>\n    <tr style=\"text-align: right;\">\n      <th></th>\n      <th>0</th>\n      <th>1</th>\n      <th>2</th>\n      <th>3</th>\n      <th>4</th>\n      <th>5</th>\n      <th>6</th>\n      <th>7</th>\n      <th>8</th>\n      <th>9</th>\n    </tr>\n  </thead>\n  <tbody>\n    <tr>\n      <th>0</th>\n      <td>湛江渔人码头</td>\n      <td>data</td>\n      <td>湛江市</td>\n      <td>2018年05月30日开盘</td>\n      <td>电话：400-7055-050 转 11780</td>\n      <td>霞山 霞山 · 东堤路15号</td>\n      <td>在售</td>\n      <td>商业</td>\n      <td>60000</td>\n      <td>小户型 综合体 海景</td>\n    </tr>\n    <tr>\n      <th>1</th>\n      <td>江门美吉特广场CCMALL</td>\n      <td>data</td>\n      <td>江门市</td>\n      <td>2016年03月30日开盘</td>\n      <td>电话：400-6378-135 转 466</td>\n      <td>新会区  · 启超大道9号</td>\n      <td>在售</td>\n      <td>商业</td>\n      <td>30000</td>\n      <td>品牌地产 综合体 景观居所</td>\n    </tr>\n    <tr>\n      <th>2</th>\n      <td>尚东柏悦府</td>\n      <td>data</td>\n      <td>广州市</td>\n      <td>2016年10月08日开盘</td>\n      <td>电话：400-6390-343 转 1409</td>\n      <td>天河 珠江新城 · 珠江新城花城大道98号（珠江公园南门对面）</td>\n      <td>在售</td>\n      <td>住宅</td>\n      <td>160000</td>\n      <td>地铁沿线</td>\n    </tr>\n    <tr>\n      <th>3</th>\n      <td>益田大运城邦别墅</td>\n      <td>data</td>\n      <td>东莞市</td>\n      <td>2014年03月29日开盘</td>\n      <td>电话：400-7055-050 转 17149</td>\n      <td>常平 常平 · 东莞市凤岗道龙平路官井头村</td>\n      <td>在售</td>\n      <td>别墅</td>\n      <td>60000</td>\n      <td>景观居所</td>\n    </tr>\n    <tr>\n      <th>4</th>\n      <td>华鸿璟悦轩</td>\n      <td>data</td>\n      <td>中山市</td>\n      <td>2021年05月01日开盘</td>\n      <td>电话：400-6372-095 转 119</td>\n      <td>火炬开发区 凯茵新城 · 博爱七路与景观路交汇处长江高尔夫球场旁</td>\n      <td>在售</td>\n      <td>住宅</td>\n      <td>30000</td>\n      <td>品牌地产</td>\n    </tr>\n    <tr>\n      <th>...</th>\n      <td>...</td>\n      <td>...</td>\n      <td>...</td>\n      <td>...</td>\n      <td>...</td>\n      <td>...</td>\n      <td>...</td>\n      <td>...</td>\n      <td>...</td>\n      <td>...</td>\n    </tr>\n    <tr>\n      <th>6953</th>\n      <td>汇生商贸大楼</td>\n      <td>data</td>\n      <td>珠海市</td>\n      <td>1970年01月01日开盘</td>\n      <td>电话：400-6390-473 转 1001</td>\n      <td>香洲  · 前山金鸡路125号（人力资源大厦对面）</td>\n      <td>售完</td>\n      <td>商业</td>\n      <td>售价待定</td>\n      <td>现房</td>\n    </tr>\n    <tr>\n      <th>6954</th>\n      <td>文德广场</td>\n      <td>data</td>\n      <td>珠海市</td>\n      <td>1970年01月01日开盘</td>\n      <td>电话：400-6390-473 转 1071</td>\n      <td>高栏港经济区  · 平沙镇美平西路328号文德广场销售中心</td>\n      <td>售完</td>\n      <td>住宅</td>\n      <td>售价待定</td>\n      <td>品牌地产 配套成熟</td>\n    </tr>\n    <tr>\n      <th>6955</th>\n      <td>奥园阳光一号</td>\n      <td>data</td>\n      <td>珠海市</td>\n      <td>2019年06月22日开盘</td>\n      <td>电话：400-6390-473 转 1108</td>\n      <td>金湾  · 三灶镇机场西路101号</td>\n      <td>售完</td>\n      <td>住宅</td>\n      <td>售价待定</td>\n      <td>小户型</td>\n    </tr>\n    <tr>\n      <th>6956</th>\n      <td>泉福豪亭</td>\n      <td>data</td>\n      <td>珠海市</td>\n      <td>1970年01月01日开盘</td>\n      <td>电话：400-6390-473 转 1006</td>\n      <td>香洲  · 凤凰北路2000号（翠香路交叉口）</td>\n      <td>售完</td>\n      <td>商业</td>\n      <td>售价待定</td>\n      <td>现房</td>\n    </tr>\n    <tr>\n      <th>6957</th>\n      <td>中安世纪广场</td>\n      <td>data</td>\n      <td>珠海市</td>\n      <td>1970年01月01日开盘</td>\n      <td>电话：400-6390-473 转 1154</td>\n      <td>香洲  · 港昌路258号</td>\n      <td>租售</td>\n      <td>商业</td>\n      <td>售价待定</td>\n      <td>品牌地产 配套成熟</td>\n    </tr>\n  </tbody>\n</table>\n<p>6958 rows × 10 columns</p>\n</div>"
     },
     "execution_count": 2,
     "metadata": {},
     "output_type": "execute_result"
    }
   ],
   "source": [
    "data = con_sql('select * from data')\n",
    "data"
   ],
   "metadata": {
    "collapsed": false,
    "pycharm": {
     "name": "#%%\n"
    }
   }
  },
  {
   "cell_type": "code",
   "execution_count": 5,
   "outputs": [],
   "source": [
    "data.columns = ['楼盘名', 'data', '市', '开盘日期', '联系电话', '地址', '售卖状态', '房产类型', '售价', 'Tag']\n",
    "# data.drop('data', axis=1, inplace=True)"
   ],
   "metadata": {
    "collapsed": false,
    "pycharm": {
     "name": "#%%\n"
    }
   }
  },
  {
   "cell_type": "code",
   "execution_count": 6,
   "outputs": [],
   "source": [
    "df1 = data[data['售卖状态'] == '待售']\n",
    "df2 = df1[df1['售价'] != '售价待定']\n",
    "df3 = df2['市'].value_counts()\n",
    "shi1 = df3.index.tolist()\n",
    "i = []\n",
    "j = []\n",
    "for a in shi1:\n",
    "    h = a.strip('市')\n",
    "    b = df2[df2['市'] == a]\n",
    "    c = b['售价'].values.tolist()\n",
    "    e = 0\n",
    "    for d in c:\n",
    "        e += int(d)\n",
    "    f = len(c)\n",
    "    g = e / f\n",
    "    j.append(str(h))\n",
    "    i.append(str(round(g, 2)))"
   ],
   "metadata": {
    "collapsed": false,
    "pycharm": {
     "name": "#%%\n"
    }
   }
  },
  {
   "cell_type": "code",
   "execution_count": 8,
   "outputs": [
    {
     "name": "stdout",
     "output_type": "stream",
     "text": [
      "{'city': ['深圳', '惠州', '广州', '佛山', '东莞', '江门', '珠海', '中山', '湛江', '河源', '清远', '阳江', '韶关', '茂名', '肇庆', '云浮'], 'price': ['64500.91', '13105.51', '40456.06', '17556.67', '26952.95', '11163.87', '28209.68', '13125.93', '9494.55', '6591.08', '7990.0', '5460.0', '5975.0', '6342.86', '8437.6', '4000.0']}\n",
      "[('深圳', '64500.91'), ('广州', '40456.06'), ('珠海', '28209.68'), ('东莞', '26952.95'), ('佛山', '17556.67'), ('中山', '13125.93'), ('惠州', '13105.51'), ('江门', '11163.87'), ('湛江', '9494.55'), ('肇庆', '8437.6'), ('清远', '7990.0'), ('河源', '6591.08'), ('茂名', '6342.86'), ('韶关', '5975.0'), ('阳江', '5460.0'), ('云浮', '4000.0')]\n",
      "1. 深圳 64500.91元\n",
      "2. 广州 40456.06元\n",
      "3. 珠海 28209.68元\n",
      "4. 东莞 26952.95元\n",
      "5. 佛山 17556.67元\n",
      "6. 中山 13125.93元\n",
      "7. 惠州 13105.51元\n",
      "8. 江门 11163.87元\n",
      "9. 湛江 9494.55元\n",
      "10. 肇庆 8437.6元\n",
      "11. 清远 7990.0元\n",
      "12. 河源 6591.08元\n",
      "13. 茂名 6342.86元\n",
      "14. 韶关 5975.0元\n",
      "15. 阳江 5460.0元\n",
      "16. 云浮 4000.0元\n"
     ]
    }
   ],
   "source": [
    "pricing = {\n",
    "    \"city\": j,\n",
    "    \"price\": i\n",
    "}\n",
    "pricing_list = list(zip(pricing['city'], pricing['price']))\n",
    "pricing_list.sort(key=lambda x: float(x[1]), reverse=True)\n",
    "result = {\n",
    "    \"name\": [i[0] for i in pricing_list],\n",
    "    \"value\": [i[1] for i in pricing_list]\n",
    "}\n"
   ],
   "metadata": {
    "collapsed": false,
    "pycharm": {
     "name": "#%%\n"
    }
   }
  },
  {
   "cell_type": "code",
   "execution_count": null,
   "outputs": [],
   "source": [],
   "metadata": {
    "collapsed": false,
    "pycharm": {
     "name": "#%%\n"
    }
   }
  }
 ],
 "metadata": {
  "kernelspec": {
   "display_name": "Python 3 (ipykernel)",
   "language": "python",
   "name": "python3"
  },
  "language_info": {
   "codemirror_mode": {
    "name": "ipython",
    "version": 3
   },
   "file_extension": ".py",
   "mimetype": "text/x-python",
   "name": "python",
   "nbconvert_exporter": "python",
   "pygments_lexer": "ipython3",
   "version": "3.10.5"
  }
 },
 "nbformat": 4,
 "nbformat_minor": 1
}